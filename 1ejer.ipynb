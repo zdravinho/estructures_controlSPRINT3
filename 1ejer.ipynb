{
 "cells": [
  {
   "cell_type": "code",
   "execution_count": 21,
   "id": "caae4341",
   "metadata": {},
   "outputs": [
    {
     "name": "stdout",
     "output_type": "stream",
     "text": [
      "Error: input should be a one-dimensional list.\n"
     ]
    }
   ],
   "source": [
    "def statistical_summary(arr):\n",
    "  if not isinstance(arr, list) or any(isinstance(i, list) for i in arr):\n",
    "    return \"Error: input should be a one-dimensional list.\"\n",
    "\n",
    "  return {\n",
    "    \"number of elements\": len(arr),\n",
    "    \"elements\": arr\n",
    "  }\n",
    "\n",
    "\n",
    "data = [[1, 2, 's'], [4, 5]]\n",
    "result = statistical_summary(data)\n",
    "print(result)\n"
   ]
  },
  {
   "cell_type": "code",
   "execution_count": null,
   "id": "3db21cb2",
   "metadata": {},
   "outputs": [],
   "source": []
  },
  {
   "cell_type": "code",
   "execution_count": null,
   "id": "b010fe43",
   "metadata": {},
   "outputs": [],
   "source": []
  }
 ],
 "metadata": {
  "kernelspec": {
   "display_name": "Python 3 (ipykernel)",
   "language": "python",
   "name": "python3"
  },
  "language_info": {
   "codemirror_mode": {
    "name": "ipython",
    "version": 3
   },
   "file_extension": ".py",
   "mimetype": "text/x-python",
   "name": "python",
   "nbconvert_exporter": "python",
   "pygments_lexer": "ipython3",
   "version": "3.9.13"
  }
 },
 "nbformat": 4,
 "nbformat_minor": 5
}
