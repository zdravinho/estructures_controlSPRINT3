{
 "cells": [
  {
   "cell_type": "code",
   "execution_count": null,
   "id": "3b9a1211",
   "metadata": {},
   "outputs": [],
   "source": [
    "from numpy import random\n",
    "\n",
    "def aleatori_cuadrado(n):\n",
    "    cuadrado = []\n",
    "    for i in range(n):\n",
    "        row = []\n",
    "        for j in range(n):\n",
    "            row.append(random.randint(0,100))\n",
    "        cuadrado.append(row)\n",
    "    return cuadrado\n",
    "n = int(input(\"Pon numero N para crear cuadrado NxN: \"))\n",
    "print(aleatori_quadro(n))"
   ]
  },
  {
   "cell_type": "code",
   "execution_count": null,
   "id": "2a40e546",
   "metadata": {},
   "outputs": [],
   "source": []
  }
 ],
 "metadata": {
  "kernelspec": {
   "display_name": "Python 3 (ipykernel)",
   "language": "python",
   "name": "python3"
  },
  "language_info": {
   "codemirror_mode": {
    "name": "ipython",
    "version": 3
   },
   "file_extension": ".py",
   "mimetype": "text/x-python",
   "name": "python",
   "nbconvert_exporter": "python",
   "pygments_lexer": "ipython3",
   "version": "3.9.13"
  }
 },
 "nbformat": 4,
 "nbformat_minor": 5
}
