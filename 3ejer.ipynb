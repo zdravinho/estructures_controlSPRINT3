{
 "cells": [
  {
   "cell_type": "code",
   "execution_count": null,
   "id": "34882f7d",
   "metadata": {},
   "outputs": [],
   "source": [
    "def row_column_totals(table):\n",
    "    \"\"\"\n",
    "    Esta función recibe una tabla de dos dimensiones y calcula los totales por fila y columna.\n",
    "    \"\"\"\n",
    "    # Obtenemos el número de filas y columnas en la tabla.\n",
    "    rows = len(table)\n",
    "    columns = len(table[0])\n",
    "    \n",
    "    # Inicializamos dos listas para almacenar los totales por fila y columna.\n",
    "    row_totals = [0]*rows\n",
    "    column_totals = [0]*columns\n",
    "    \n",
    "    # Iteramos a través de cada fila y columna de la tabla.\n",
    "    for i in range(rows):\n",
    "        for j in range(columns):\n",
    "            # Actualizamos el total de la fila y columna actual.\n",
    "            row_totals[i] += table[i][j]\n",
    "            column_totals[j] += table[i][j]\n",
    "    \n",
    "    # Devolvemos los totales por fila y columna.\n",
    "    return row_totals, column_totals\n",
    "\n",
    "table = ([1,5,6],[10,2,6])\n",
    "\n",
    "# Calculamos los totales por fila y columna utilizando la función definida previamente.\n",
    "row_totals,column_totals = row_column_totals(table)\n",
    "\n",
    "# Imprimimos los totales por fila y columna.\n",
    "print('Total por fila: ' , row_totals)\n",
    "print('Total por columna: ' , column_totals)\n"
   ]
  }
 ],
 "metadata": {
  "kernelspec": {
   "display_name": "Python 3 (ipykernel)",
   "language": "python",
   "name": "python3"
  },
  "language_info": {
   "codemirror_mode": {
    "name": "ipython",
    "version": 3
   },
   "file_extension": ".py",
   "mimetype": "text/x-python",
   "name": "python",
   "nbconvert_exporter": "python",
   "pygments_lexer": "ipython3",
   "version": "3.9.13"
  }
 },
 "nbformat": 4,
 "nbformat_minor": 5
}
