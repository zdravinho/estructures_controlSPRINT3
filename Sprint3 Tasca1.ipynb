{
 "cells": [
  {
   "cell_type": "code",
   "execution_count": 21,
   "id": "caae4341",
   "metadata": {},
   "outputs": [
    {
     "name": "stdout",
     "output_type": "stream",
     "text": [
      "Error: input should be a one-dimensional list.\n"
     ]
    }
   ],
   "source": [
    "# 1ro ejercicio \n",
    "\n",
    "def statistical_summary(arr):\n",
    "  if not isinstance(arr, list) or any(isinstance(i, list) for i in arr):\n",
    "    return \"Error: input should be a one-dimensional list.\"\n",
    "\n",
    "  return {\n",
    "    \"number of elements\": len(arr),\n",
    "    \"elements\": arr\n",
    "  }\n",
    "\n",
    "\n",
    "data = [[1, 2, 's'], [4, 5]]\n",
    "result = statistical_summary(data)\n",
    "print(result)\n"
   ]
  },
  {
   "cell_type": "code",
   "execution_count": 9,
   "id": "3db21cb2",
   "metadata": {},
   "outputs": [
    {
     "name": "stdout",
     "output_type": "stream",
     "text": [
      "-0.9176615589782084\n"
     ]
    }
   ],
   "source": [
    "# 2ndo ejercicio\n",
    "\n",
    "from numpy import random\n",
    "\n",
    "def aleatori_cuadrado(n):\n",
    "    cuadrado = []\n",
    "    for i in range(n):\n",
    "        row = []\n",
    "        for j in range(n):\n",
    "            row.append(random.randint(0,100))\n",
    "        cuadrado.append(row)\n",
    "    return cuadrado\n",
    "n = int(input(\"Pon numero N para crear cuadrado NxN: \"))\n",
    "print(aleatori_quadro(n))"
   ]
  },
  {
   "cell_type": "code",
   "execution_count": 10,
   "id": "b010fe43",
   "metadata": {},
   "outputs": [
    {
     "name": "stdout",
     "output_type": "stream",
     "text": [
      "Total por fila:  [12, 18]\n",
      "Total por columna:  [11, 7, 12]\n"
     ]
    }
   ],
   "source": [
    "# 3ro ejercicio\n",
    "\n",
    "def row_column_totals(table):\n",
    "    \"\"\"\n",
    "    Esta función recibe una tabla de dos dimensiones y calcula los totales por fila y columna.\n",
    "    \"\"\"\n",
    "    # Obtenemos el número de filas y columnas en la tabla.\n",
    "    rows = len(table)\n",
    "    columns = len(table[0])\n",
    "    \n",
    "    # Inicializamos dos listas para almacenar los totales por fila y columna.\n",
    "    row_totals = [0]*rows\n",
    "    column_totals = [0]*columns\n",
    "    \n",
    "    # Iteramos a través de cada fila y columna de la tabla.\n",
    "    for i in range(rows):\n",
    "        for j in range(columns):\n",
    "            # Actualizamos el total de la fila y columna actual.\n",
    "            row_totals[i] += table[i][j]\n",
    "            column_totals[j] += table[i][j]\n",
    "    \n",
    "    # Devolvemos los totales por fila y columna.\n",
    "    return row_totals, column_totals\n",
    "\n",
    "table = ([1,5,6],[10,2,6])\n",
    "\n",
    "# Calculamos los totales por fila y columna utilizando la función definida previamente.\n",
    "row_totals,column_totals = row_column_totals(table)\n",
    "\n",
    "# Imprimimos los totales por fila y columna.\n",
    "print('Total por fila: ' , row_totals)\n",
    "print('Total por columna: ' , column_totals)"
   ]
  },
  {
   "cell_type": "code",
   "execution_count": 17,
   "id": "d829af3e",
   "metadata": {},
   "outputs": [
    {
     "name": "stdout",
     "output_type": "stream",
     "text": [
      "-0.9761235323396819\n"
     ]
    }
   ],
   "source": [
    "# 4to ejercicio\n",
    "\n",
    "import math\n",
    "\n",
    "def correlation_coefficient(x, y):\n",
    "    \"\"\"\n",
    "    Calcula el coeficiente de correlación entre dos listas x e y.\n",
    "    \"\"\"\n",
    "    n = len(x) \n",
    "    # Se almacena el tamaño de las listas\n",
    "    \n",
    "    sum_x = sum(x) \n",
    "    # Se suman los valores de x\n",
    "    \n",
    "    sum_y = sum(y) \n",
    "    # Se suman los valores de y\n",
    "    \n",
    "    sum_xy = sum([x[i]*y[i] for i in range(n)]) \n",
    "    # Se suman los productos elemento a elemento de x e y\n",
    "    \n",
    "    sum_x_squared = sum([x[i]**2 for i in range(n)]) \n",
    "    # Se suman los cuadrados de los valores de x\n",
    "    sum_y_squared = sum([y[i]**2 for i in range(n)])\n",
    "    # Se suman los cuadrados de los valores de y\n",
    "    \n",
    "    numerator = n * sum_xy - sum_x * sum_y\n",
    "    # Se calcula el numerador de la fórmula del coeficiente de correlación\n",
    "    \n",
    "    denominator = math.sqrt(n * sum_x_squared - sum_x**2) * math.sqrt(n * sum_y_squared - sum_y**2)\n",
    "    # Se calcula el denominador de la fórmula del coeficiente de correlación\n",
    "    \n",
    "    r = numerator / denominator\n",
    "    # Se divide el numerador entre el denominador para obtener el coeficiente de correlación\n",
    "    \n",
    "    return r\n",
    "\n",
    "x = [3,4,5,100]\n",
    "y = [1,2,-1,-10]\n",
    "\n",
    "print(correlation_coefficient(x,y))\n",
    "# Se imprime el resultado del coeficiente de correlación"
   ]
  },
  {
   "cell_type": "code",
   "execution_count": null,
   "id": "e722750d",
   "metadata": {},
   "outputs": [],
   "source": []
  }
 ],
 "metadata": {
  "kernelspec": {
   "display_name": "Python 3 (ipykernel)",
   "language": "python",
   "name": "python3"
  },
  "language_info": {
   "codemirror_mode": {
    "name": "ipython",
    "version": 3
   },
   "file_extension": ".py",
   "mimetype": "text/x-python",
   "name": "python",
   "nbconvert_exporter": "python",
   "pygments_lexer": "ipython3",
   "version": "3.9.13"
  }
 },
 "nbformat": 4,
 "nbformat_minor": 5
}
