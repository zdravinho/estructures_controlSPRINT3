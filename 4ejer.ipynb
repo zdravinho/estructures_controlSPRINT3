{
 "cells": [
  {
   "cell_type": "code",
   "execution_count": 18,
   "id": "2a2c0090",
   "metadata": {},
   "outputs": [
    {
     "name": "stdout",
     "output_type": "stream",
     "text": [
      "n is:  6\n",
      "sum_x is:  21\n",
      "sum_y is:  21\n",
      "sum_xy is:  91\n",
      "sum_x_squared is:  91\n",
      "1.0000000000000002\n"
     ]
    }
   ],
   "source": [
    "import math\n",
    "\n",
    "def correlation_coefficient(x, y):\n",
    "    \"\"\"\n",
    "    Calcula el coeficiente de correlación entre dos listas x e y.\n",
    "    \"\"\"\n",
    "    n = len(x) \n",
    "    # Se almacena el tamaño de las listas\n",
    "    \n",
    "    sum_x = sum(x) \n",
    "    # Se suman los valores de x\n",
    "    \n",
    "    sum_y = sum(y) \n",
    "    # Se suman los valores de y\n",
    "    \n",
    "    sum_xy = sum([x[i]*y[i] for i in range(n)]) \n",
    "    # Se suman los productos elemento a elemento de x e y\n",
    "    \n",
    "    sum_x_squared = sum([x[i]**2 for i in range(n)]) \n",
    "    # Se suman los cuadrados de los valores de x\n",
    "    sum_y_squared = sum([y[i]**2 for i in range(n)])\n",
    "    # Se suman los cuadrados de los valores de y\n",
    "    \n",
    "    numerator = n * sum_xy - sum_x * sum_y\n",
    "    # Se calcula el numerador de la fórmula del coeficiente de correlación\n",
    "    \n",
    "    denominator = math.sqrt(n * sum_x_squared - sum_x**2) * math.sqrt(n * sum_y_squared - sum_y**2)\n",
    "    # Se calcula el denominador de la fórmula del coeficiente de correlación\n",
    "    \n",
    "    r = numerator / denominator\n",
    "    # Se divide el numerador entre el denominador para obtener el coeficiente de correlación\n",
    "    \n",
    "    return r\n",
    "\n",
    "x = [1,2,3,4,5,6]\n",
    "y = [1,2,3,4,5,6]\n",
    "\n",
    "print(correlation_coefficient(x,y))\n",
    "# Se imprime el resultado del coeficiente de correlación\n"
   ]
  },
  {
   "cell_type": "code",
   "execution_count": null,
   "id": "7ffde282",
   "metadata": {},
   "outputs": [],
   "source": []
  }
 ],
 "metadata": {
  "kernelspec": {
   "display_name": "Python 3 (ipykernel)",
   "language": "python",
   "name": "python3"
  },
  "language_info": {
   "codemirror_mode": {
    "name": "ipython",
    "version": 3
   },
   "file_extension": ".py",
   "mimetype": "text/x-python",
   "name": "python",
   "nbconvert_exporter": "python",
   "pygments_lexer": "ipython3",
   "version": "3.9.13"
  }
 },
 "nbformat": 4,
 "nbformat_minor": 5
}
